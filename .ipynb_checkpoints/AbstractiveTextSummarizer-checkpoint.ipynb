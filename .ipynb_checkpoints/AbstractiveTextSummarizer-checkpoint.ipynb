{
 "cells": [
  {
   "cell_type": "markdown",
   "metadata": {},
   "source": [
    "Import all the required packages"
   ]
  },
  {
   "cell_type": "code",
   "execution_count": 1,
   "metadata": {},
   "outputs": [],
   "source": [
    "import numpy as np\n",
    "import pandas as pd \n",
    "from tensorflow.keras.preprocessing.text import Tokenizer \n",
    "from tensorflow.keras.preprocessing.sequence import pad_sequences\n",
    "from tensorflow.keras.layers import Input, LSTM, Embedding, Dense, Concatenate, TimeDistributed\n",
    "from tensorflow.keras.models import Model"
   ]
  },
  {
   "cell_type": "code",
   "execution_count": 124,
   "metadata": {},
   "outputs": [],
   "source": [
    "data = pd.read_csv('processed_reviews.csv',nrows=100000)"
   ]
  },
  {
   "cell_type": "markdown",
   "metadata": {},
   "source": [
    "Now we will set a max length to both our summary and text first we will compute the length of all the sentences and find their mean"
   ]
  },
  {
   "cell_type": "code",
   "execution_count": 125,
   "metadata": {},
   "outputs": [],
   "source": [
    "text_len_list, summ_len_list = [],[]\n",
    "\n",
    "for i in range(len(data['text'])):\n",
    "    text_len_list.append(len(data['text'][i].split()))\n",
    "    summ_len_list.append(len(data['summary'][i].split()))    "
   ]
  },
  {
   "cell_type": "code",
   "execution_count": 126,
   "metadata": {},
   "outputs": [
    {
     "name": "stdout",
     "output_type": "stream",
     "text": [
      "38.792962162284525 4.0105488336295005\n"
     ]
    }
   ],
   "source": [
    "print(np.mean(text_len_list), np.mean(summ_len_list))"
   ]
  },
  {
   "cell_type": "markdown",
   "metadata": {},
   "source": [
    "With that we will fix the length of text to be 38 but a summary of just 4 words is too short, so we'll take around 8 words for each summary length."
   ]
  },
  {
   "cell_type": "code",
   "execution_count": 127,
   "metadata": {},
   "outputs": [],
   "source": [
    "text_len = 30\n",
    "summ_len = 8"
   ]
  },
  {
   "cell_type": "markdown",
   "metadata": {},
   "source": [
    "Now we will add unique start and end tokens to each sentences in data['summary']"
   ]
  },
  {
   "cell_type": "code",
   "execution_count": 128,
   "metadata": {},
   "outputs": [],
   "source": [
    "data['summary'] = data['summary'].apply(lambda x: 'summstart ' + x + ' summend')"
   ]
  },
  {
   "cell_type": "markdown",
   "metadata": {},
   "source": [
    "With that each sentence in data['summary'] will look something like this,"
   ]
  },
  {
   "cell_type": "code",
   "execution_count": 129,
   "metadata": {},
   "outputs": [
    {
     "data": {
      "text/plain": [
       "'summstart good quality dog food summend'"
      ]
     },
     "execution_count": 129,
     "metadata": {},
     "output_type": "execute_result"
    }
   ],
   "source": [
    "data['summary'][0]"
   ]
  },
  {
   "cell_type": "markdown",
   "metadata": {},
   "source": [
    "Splitting the data to train and test"
   ]
  },
  {
   "cell_type": "code",
   "execution_count": 142,
   "metadata": {},
   "outputs": [],
   "source": [
    "from sklearn.model_selection import train_test_split\n",
    "x_train, x_val, y_train, y_val = train_test_split(np.array(data['text']), np.array(data['summary']), \n",
    "                                                  test_size=0.1, random_state=0, shuffle=True)"
   ]
  },
  {
   "cell_type": "markdown",
   "metadata": {},
   "source": [
    "### Tokenizer"
   ]
  },
  {
   "cell_type": "markdown",
   "metadata": {},
   "source": [
    "We will only consider words that are more frequent and remove any words which are very rarely occuring."
   ]
  },
  {
   "cell_type": "code",
   "execution_count": 143,
   "metadata": {},
   "outputs": [],
   "source": [
    "def token_words_len(tokenizer, min_occr):\n",
    "    count, total_count = 0,0\n",
    "    frequency, total_frequency = 0,0\n",
    "    \n",
    "    for key,val in tokenizer.word_counts.items():\n",
    "        total_count += 1\n",
    "        total_frequency += val\n",
    "        if val < min_occr:\n",
    "            count += 1\n",
    "            frequency += val\n",
    "    print(\"% of rare words: \", count/total_count)\n",
    "    print(\"total coverage of rare words: \", frequency/total_frequency)\n",
    "    return total_count - count"
   ]
  },
  {
   "cell_type": "code",
   "execution_count": 144,
   "metadata": {},
   "outputs": [
    {
     "name": "stdout",
     "output_type": "stream",
     "text": [
      "% of rare words:  0.6423736937973349\n",
      "total coverage of rare words:  0.014954988379241722\n"
     ]
    }
   ],
   "source": [
    "text_tokenizer = Tokenizer()\n",
    "text_tokenizer.fit_on_texts(list(x_train))\n",
    "x_tokenizer = Tokenizer(num_words=token_words_len(text_tokenizer,4))\n",
    "x_tokenizer.fit_on_texts(list(x_train))"
   ]
  },
  {
   "cell_type": "code",
   "execution_count": 145,
   "metadata": {},
   "outputs": [
    {
     "name": "stdout",
     "output_type": "stream",
     "text": [
      "% of rare words:  0.7533709067560819\n",
      "total coverage of rare words:  0.0373879678987757\n"
     ]
    }
   ],
   "source": [
    "summ_tokenizer = Tokenizer()\n",
    "summ_tokenizer.fit_on_texts(list(y_train))\n",
    "y_tokenizer = Tokenizer(num_words=token_words_len(summ_tokenizer,6))\n",
    "y_tokenizer.fit_on_texts(list(y_train))"
   ]
  },
  {
   "cell_type": "code",
   "execution_count": 146,
   "metadata": {},
   "outputs": [],
   "source": [
    "# Text seq to int seq\n",
    "x_train_seq = x_tokenizer.texts_to_sequences(x_train)\n",
    "x_val_seq = x_tokenizer.texts_to_sequences(x_val)\n",
    "\n",
    "# Padding\n",
    "x_train = pad_sequences(x_train_seq, maxlen=text_len, padding='post')\n",
    "x_val = pad_sequences(x_val_seq, maxlen=text_len, padding='post')\n",
    "\n",
    "# vocabulary\n",
    "x_voc = x_tokenizer.num_words + 1"
   ]
  },
  {
   "cell_type": "code",
   "execution_count": 147,
   "metadata": {},
   "outputs": [],
   "source": [
    "# Text seq to int seq\n",
    "y_train_seq = y_tokenizer.texts_to_sequences(y_train)\n",
    "y_val_seq = y_tokenizer.texts_to_sequences(y_val)\n",
    "\n",
    "# Padding\n",
    "y_train = pad_sequences(y_train_seq, maxlen=summ_len, padding='post')\n",
    "y_val = pad_sequences(y_val_seq, maxlen=summ_len, padding='post')\n",
    "\n",
    "# vocabulary\n",
    "y_voc = y_tokenizer.num_words + 1"
   ]
  },
  {
   "cell_type": "markdown",
   "metadata": {},
   "source": [
    "Remove any rows that has only stat and end tokens"
   ]
  },
  {
   "cell_type": "code",
   "execution_count": 148,
   "metadata": {},
   "outputs": [],
   "source": [
    "def delete_empty_sentence(data):\n",
    "    index = []\n",
    "    for i in range(len(data)):\n",
    "        count = 0\n",
    "        for j in data[i]:\n",
    "            if j != 0:\n",
    "                count += 1\n",
    "        if count == 2:\n",
    "            index.append(i)\n",
    "    return index"
   ]
  },
  {
   "cell_type": "code",
   "execution_count": 150,
   "metadata": {},
   "outputs": [],
   "source": [
    "train_index = delete_empty_sentence(y_train)\n",
    "y_train = np.delete(y_train, train_index, axis=0)\n",
    "# Deleting the corresponding text to the summary\n",
    "x_train = np.delete(x_train, train_index, axis=0)\n",
    "        "
   ]
  },
  {
   "cell_type": "code",
   "execution_count": 151,
   "metadata": {},
   "outputs": [],
   "source": [
    "val_index = delete_empty_sentence(y_val)\n",
    "y_train = np.delete(y_train, val_index, axis=0)\n",
    "# Deleting the corresponding text to the summary\n",
    "x_train = np.delete(x_train, val_index, axis=0)"
   ]
  },
  {
   "cell_type": "markdown",
   "metadata": {},
   "source": [
    "With that done its time to build our model. Before that lets understand how the encoder decoder model works. "
   ]
  },
  {
   "cell_type": "code",
   "execution_count": null,
   "metadata": {},
   "outputs": [],
   "source": [
    "def summarizer_model(input_shape):\n",
    "    embedding_dim = 100\n",
    "    latent_dim = 300\n",
    "    # ENCODER \n",
    "    \n",
    "    # Input Layer\n",
    "    e_input_layer = Input(shape=input_shape)\n",
    "    \n",
    "    # Embedding layer\n",
    "    e_embedding_layer = Embedding(x_voc, embedding_dim, trainable=True)(input_layer)\n",
    "    \n",
    "    # LSTM Layers\n",
    "    e_lstm_1 = LSTM(latent_dim,return_sequences=True,return_state=True,dropout=0.4,recurrent_dropout=0.4)\n",
    "    e_output_1, state_h1, state_c1 = e_lstm_1(enc_emb)\n",
    "    e_lstm_2 = LSTM(latent_dim,return_sequences=True,return_state=True,dropout=0.4,recurrent_dropout=0.4)\n",
    "    e_output_2, state_h2, state_c2 = e_lstm_2(e_output_1)\n",
    "    e_lstm_3=LSTM(latent_dim, return_state=True, return_sequences=True,dropout=0.4,recurrent_dropout=0.4)\n",
    "    encoder_outputs, state_h, state_c= e_lstm_3(e_output_2)\n",
    "    \n",
    "    # DECODER\n",
    "    d_input_layer = Input(shape=(None,))\n",
    "\n",
    "    # Embedding layer\n",
    "    d_embedding_layer = Embedding(y_voc, embedding_dim,trainable=True)\n",
    "    d_embedding = d_embedding_layer(d_input_layer)\n",
    "\n",
    "    d_lstm = LSTM(latent_dim, return_sequences=True, return_state=True,dropout=0.4,recurrent_dropout=0.2)\n",
    "    d_output,d_fwd_state, d_back_state = d_lstm(d_embedding,initial_state=[state_h, state_c])\n",
    "\n",
    "    # Attention layer\n",
    "    attn_layer = AttentionLayer(name='attention_layer')\n",
    "    attn_out, attn_states = attn_layer([encoder_outputs, d_output])\n",
    "\n",
    "    # Concat attention input and decoder LSTM output\n",
    "    decoder_concat_input = Concatenate(axis=-1, name='concat_layer')([d_output, attn_out])\n",
    "\n",
    "    #dense layer\n",
    "    decoder_dense =  TimeDistributed(Dense(y_voc, activation='softmax'))\n",
    "    d_output = decoder_dense(decoder_concat_input)\n",
    "\n",
    "    # Define the model \n",
    "    model = Model([e_input_layer, d_input_layer], d_output)\n",
    "    \n",
    "\n",
    "\n",
    "    "
   ]
  },
  {
   "cell_type": "code",
   "execution_count": null,
   "metadata": {},
   "outputs": [],
   "source": []
  }
 ],
 "metadata": {
  "kernelspec": {
   "display_name": "Python 3",
   "language": "python",
   "name": "python3"
  },
  "language_info": {
   "codemirror_mode": {
    "name": "ipython",
    "version": 3
   },
   "file_extension": ".py",
   "mimetype": "text/x-python",
   "name": "python",
   "nbconvert_exporter": "python",
   "pygments_lexer": "ipython3",
   "version": "3.6.8"
  }
 },
 "nbformat": 4,
 "nbformat_minor": 2
}
