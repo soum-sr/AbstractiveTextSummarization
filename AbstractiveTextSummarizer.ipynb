{
 "cells": [
  {
   "cell_type": "markdown",
   "metadata": {},
   "source": [
    "Import all the required packages"
   ]
  },
  {
   "cell_type": "code",
   "execution_count": 166,
   "metadata": {},
   "outputs": [],
   "source": [
    "import numpy as np\n",
    "import pandas as pd \n",
    "from attention import AttentionLayer\n",
    "from tensorflow.keras.preprocessing.text import Tokenizer \n",
    "from tensorflow.keras.preprocessing.sequence import pad_sequences\n",
    "from tensorflow.keras.layers import Input, LSTM, Embedding, Dense, Concatenate, TimeDistributed\n",
    "from tensorflow.keras.models import Model\n",
    "from tensorflow.keras.callbacks import EarlyStopping"
   ]
  },
  {
   "cell_type": "code",
   "execution_count": 124,
   "metadata": {},
   "outputs": [],
   "source": [
    "data = pd.read_csv('processed_reviews.csv',nrows=100000)"
   ]
  },
  {
   "cell_type": "markdown",
   "metadata": {},
   "source": [
    "Now we will set a max length to both our summary and text first we will compute the length of all the sentences and find their mean"
   ]
  },
  {
   "cell_type": "code",
   "execution_count": 125,
   "metadata": {},
   "outputs": [],
   "source": [
    "text_len_list, summ_len_list = [],[]\n",
    "\n",
    "for i in range(len(data['text'])):\n",
    "    text_len_list.append(len(data['text'][i].split()))\n",
    "    summ_len_list.append(len(data['summary'][i].split()))    "
   ]
  },
  {
   "cell_type": "code",
   "execution_count": 126,
   "metadata": {},
   "outputs": [
    {
     "name": "stdout",
     "output_type": "stream",
     "text": [
      "38.792962162284525 4.0105488336295005\n"
     ]
    }
   ],
   "source": [
    "print(np.mean(text_len_list), np.mean(summ_len_list))"
   ]
  },
  {
   "cell_type": "markdown",
   "metadata": {},
   "source": [
    "With that we will fix the length of text to be 38 but a summary of just 4 words is too short, so we'll take around 8 words for each summary length."
   ]
  },
  {
   "cell_type": "code",
   "execution_count": 127,
   "metadata": {},
   "outputs": [],
   "source": [
    "text_len = 30\n",
    "summ_len = 8"
   ]
  },
  {
   "cell_type": "markdown",
   "metadata": {},
   "source": [
    "Now we will add unique start and end tokens to each sentences in data['summary']"
   ]
  },
  {
   "cell_type": "code",
   "execution_count": 128,
   "metadata": {},
   "outputs": [],
   "source": [
    "data['summary'] = data['summary'].apply(lambda x: 'summstart ' + x + ' summend')"
   ]
  },
  {
   "cell_type": "markdown",
   "metadata": {},
   "source": [
    "With that each sentence in data['summary'] will look something like this,"
   ]
  },
  {
   "cell_type": "code",
   "execution_count": 129,
   "metadata": {},
   "outputs": [
    {
     "data": {
      "text/plain": [
       "'summstart good quality dog food summend'"
      ]
     },
     "execution_count": 129,
     "metadata": {},
     "output_type": "execute_result"
    }
   ],
   "source": [
    "data['summary'][0]"
   ]
  },
  {
   "cell_type": "markdown",
   "metadata": {},
   "source": [
    "Splitting the data to train and test"
   ]
  },
  {
   "cell_type": "code",
   "execution_count": 142,
   "metadata": {},
   "outputs": [],
   "source": [
    "from sklearn.model_selection import train_test_split\n",
    "x_train, x_val, y_train, y_val = train_test_split(np.array(data['text']), np.array(data['summary']), \n",
    "                                                  test_size=0.1, random_state=0, shuffle=True)"
   ]
  },
  {
   "cell_type": "markdown",
   "metadata": {},
   "source": [
    "### Tokenizer"
   ]
  },
  {
   "cell_type": "markdown",
   "metadata": {},
   "source": [
    "We will only consider words that are more frequent and remove any words which are very rarely occuring."
   ]
  },
  {
   "cell_type": "code",
   "execution_count": 143,
   "metadata": {},
   "outputs": [],
   "source": [
    "def token_words_len(tokenizer, min_occr):\n",
    "    count, total_count = 0,0\n",
    "    frequency, total_frequency = 0,0\n",
    "    \n",
    "    for key,val in tokenizer.word_counts.items():\n",
    "        total_count += 1\n",
    "        total_frequency += val\n",
    "        if val < min_occr:\n",
    "            count += 1\n",
    "            frequency += val\n",
    "    print(\"% of rare words: \", count/total_count)\n",
    "    print(\"total coverage of rare words: \", frequency/total_frequency)\n",
    "    return total_count - count"
   ]
  },
  {
   "cell_type": "code",
   "execution_count": 144,
   "metadata": {},
   "outputs": [
    {
     "name": "stdout",
     "output_type": "stream",
     "text": [
      "% of rare words:  0.6423736937973349\n",
      "total coverage of rare words:  0.014954988379241722\n"
     ]
    }
   ],
   "source": [
    "text_tokenizer = Tokenizer()\n",
    "text_tokenizer.fit_on_texts(list(x_train))\n",
    "x_tokenizer = Tokenizer(num_words=token_words_len(text_tokenizer,4))\n",
    "x_tokenizer.fit_on_texts(list(x_train))"
   ]
  },
  {
   "cell_type": "code",
   "execution_count": 145,
   "metadata": {},
   "outputs": [
    {
     "name": "stdout",
     "output_type": "stream",
     "text": [
      "% of rare words:  0.7533709067560819\n",
      "total coverage of rare words:  0.0373879678987757\n"
     ]
    }
   ],
   "source": [
    "summ_tokenizer = Tokenizer()\n",
    "summ_tokenizer.fit_on_texts(list(y_train))\n",
    "y_tokenizer = Tokenizer(num_words=token_words_len(summ_tokenizer,6))\n",
    "y_tokenizer.fit_on_texts(list(y_train))"
   ]
  },
  {
   "cell_type": "code",
   "execution_count": 146,
   "metadata": {},
   "outputs": [],
   "source": [
    "# Text seq to int seq\n",
    "x_train_seq = x_tokenizer.texts_to_sequences(x_train)\n",
    "x_val_seq = x_tokenizer.texts_to_sequences(x_val)\n",
    "\n",
    "# Padding\n",
    "x_train = pad_sequences(x_train_seq, maxlen=text_len, padding='post')\n",
    "x_val = pad_sequences(x_val_seq, maxlen=text_len, padding='post')\n",
    "\n",
    "# vocabulary\n",
    "x_voc = x_tokenizer.num_words + 1"
   ]
  },
  {
   "cell_type": "code",
   "execution_count": 147,
   "metadata": {},
   "outputs": [],
   "source": [
    "# Text seq to int seq\n",
    "y_train_seq = y_tokenizer.texts_to_sequences(y_train)\n",
    "y_val_seq = y_tokenizer.texts_to_sequences(y_val)\n",
    "\n",
    "# Padding\n",
    "y_train = pad_sequences(y_train_seq, maxlen=summ_len, padding='post')\n",
    "y_val = pad_sequences(y_val_seq, maxlen=summ_len, padding='post')\n",
    "\n",
    "# vocabulary\n",
    "y_voc = y_tokenizer.num_words + 1"
   ]
  },
  {
   "cell_type": "markdown",
   "metadata": {},
   "source": [
    "Remove any rows that has only stat and end tokens"
   ]
  },
  {
   "cell_type": "code",
   "execution_count": 148,
   "metadata": {},
   "outputs": [],
   "source": [
    "def delete_empty_sentence(data):\n",
    "    index = []\n",
    "    for i in range(len(data)):\n",
    "        count = 0\n",
    "        for j in data[i]:\n",
    "            if j != 0:\n",
    "                count += 1\n",
    "        if count == 2:\n",
    "            index.append(i)\n",
    "    return index"
   ]
  },
  {
   "cell_type": "code",
   "execution_count": 150,
   "metadata": {},
   "outputs": [],
   "source": [
    "train_index = delete_empty_sentence(y_train)\n",
    "y_train = np.delete(y_train, train_index, axis=0)\n",
    "# Deleting the corresponding text to the summary\n",
    "x_train = np.delete(x_train, train_index, axis=0)\n",
    "        "
   ]
  },
  {
   "cell_type": "code",
   "execution_count": 151,
   "metadata": {},
   "outputs": [],
   "source": [
    "val_index = delete_empty_sentence(y_val)\n",
    "y_train = np.delete(y_train, val_index, axis=0)\n",
    "# Deleting the corresponding text to the summary\n",
    "x_train = np.delete(x_train, val_index, axis=0)"
   ]
  },
  {
   "cell_type": "markdown",
   "metadata": {},
   "source": [
    "With that done its time to build our model. Before that lets understand how the encoder decoder model works. "
   ]
  },
  {
   "cell_type": "code",
   "execution_count": 181,
   "metadata": {},
   "outputs": [],
   "source": [
    "\n",
    "embedding_dim = 100\n",
    "latent_dim = 300\n",
    "# ENCODER \n",
    "\n",
    "# Input Layer\n",
    "e_input_layer = Input(shape=(text_len,))\n",
    "\n",
    "# Embedding layer\n",
    "e_embedding_layer = Embedding(x_voc, embedding_dim, trainable=True)(e_input_layer)\n",
    "\n",
    "# LSTM Layers\n",
    "e_lstm_1 = LSTM(latent_dim,return_sequences=True,return_state=True,dropout=0.4,recurrent_dropout=0.4)\n",
    "e_output_1, state_h1, state_c1 = e_lstm_1(e_embedding_layer)\n",
    "e_lstm_2 = LSTM(latent_dim,return_sequences=True,return_state=True,dropout=0.4,recurrent_dropout=0.4)\n",
    "e_output_2, state_h2, state_c2 = e_lstm_2(e_output_1)\n",
    "e_lstm_3=LSTM(latent_dim, return_state=True, return_sequences=True,dropout=0.4,recurrent_dropout=0.4)\n",
    "encoder_outputs, state_h, state_c= e_lstm_3(e_output_2)\n",
    "\n",
    "# DECODER\n",
    "d_input_layer = Input(shape=(None,))\n",
    "\n",
    "# Embedding layer\n",
    "d_embedding_layer = Embedding(y_voc, embedding_dim,trainable=True)\n",
    "d_embedding = d_embedding_layer(d_input_layer)\n",
    "\n",
    "d_lstm = LSTM(latent_dim, return_sequences=True, return_state=True,dropout=0.4,recurrent_dropout=0.2)\n",
    "d_output,d_fwd_state, d_back_state = d_lstm(d_embedding,initial_state=[state_h, state_c])\n",
    "\n",
    "# Attention layer\n",
    "attn_layer = AttentionLayer(name='attention_layer')\n",
    "attn_out, attn_states = attn_layer([encoder_outputs, d_output])\n",
    "\n",
    "# Concat attention input and decoder LSTM output\n",
    "decoder_concat_input = Concatenate(axis=-1, name='concat_layer')([d_output, attn_out])\n",
    "\n",
    "#dense layer\n",
    "decoder_dense =  TimeDistributed(Dense(y_voc, activation='softmax'))\n",
    "d_output = decoder_dense(decoder_concat_input)\n",
    "\n",
    "# Define the model \n",
    "model = Model([e_input_layer, d_input_layer], d_output)\n",
    "\n",
    "\n",
    "\n",
    "\n"
   ]
  },
  {
   "cell_type": "code",
   "execution_count": 182,
   "metadata": {},
   "outputs": [
    {
     "name": "stdout",
     "output_type": "stream",
     "text": [
      "Model: \"model_2\"\n",
      "__________________________________________________________________________________________________\n",
      "Layer (type)                    Output Shape         Param #     Connected to                     \n",
      "==================================================================================================\n",
      "input_9 (InputLayer)            [(None, 30)]         0                                            \n",
      "__________________________________________________________________________________________________\n",
      "embedding_8 (Embedding)         (None, 30, 100)      1865300     input_9[0][0]                    \n",
      "__________________________________________________________________________________________________\n",
      "lstm_13 (LSTM)                  [(None, 30, 300), (N 481200      embedding_8[0][0]                \n",
      "__________________________________________________________________________________________________\n",
      "input_10 (InputLayer)           [(None, None)]       0                                            \n",
      "__________________________________________________________________________________________________\n",
      "lstm_14 (LSTM)                  [(None, 30, 300), (N 721200      lstm_13[0][0]                    \n",
      "__________________________________________________________________________________________________\n",
      "embedding_9 (Embedding)         (None, None, 100)    345800      input_10[0][0]                   \n",
      "__________________________________________________________________________________________________\n",
      "lstm_15 (LSTM)                  [(None, 30, 300), (N 721200      lstm_14[0][0]                    \n",
      "__________________________________________________________________________________________________\n",
      "lstm_16 (LSTM)                  [(None, None, 300),  481200      embedding_9[0][0]                \n",
      "                                                                 lstm_15[0][1]                    \n",
      "                                                                 lstm_15[0][2]                    \n",
      "__________________________________________________________________________________________________\n",
      "attention_layer (AttentionLayer ((None, None, 300),  180300      lstm_15[0][0]                    \n",
      "                                                                 lstm_16[0][0]                    \n",
      "__________________________________________________________________________________________________\n",
      "concat_layer (Concatenate)      (None, None, 600)    0           lstm_16[0][0]                    \n",
      "                                                                 attention_layer[0][0]            \n",
      "__________________________________________________________________________________________________\n",
      "time_distributed_2 (TimeDistrib (None, None, 3458)   2078258     concat_layer[0][0]               \n",
      "==================================================================================================\n",
      "Total params: 6,874,458\n",
      "Trainable params: 6,874,458\n",
      "Non-trainable params: 0\n",
      "__________________________________________________________________________________________________\n"
     ]
    }
   ],
   "source": [
    "model.summary()"
   ]
  },
  {
   "cell_type": "code",
   "execution_count": 173,
   "metadata": {},
   "outputs": [],
   "source": [
    "model.compile(optimizer='rmsprop', loss='sparse_categorical_crossentropy')"
   ]
  },
  {
   "cell_type": "code",
   "execution_count": 175,
   "metadata": {},
   "outputs": [
    {
     "name": "stdout",
     "output_type": "stream",
     "text": [
      "Train on 78245 samples, validate on 8836 samples\n",
      "Epoch 1/20\n",
      "78245/78245 [==============================] - 693s 9ms/sample - loss: 3.3057 - val_loss: 2.9953\n",
      "Epoch 2/20\n",
      "78245/78245 [==============================] - 681s 9ms/sample - loss: 2.9653 - val_loss: 2.8252\n",
      "Epoch 3/20\n",
      "78245/78245 [==============================] - 681s 9ms/sample - loss: 2.8088 - val_loss: 2.6920\n",
      "Epoch 4/20\n",
      "78245/78245 [==============================] - 683s 9ms/sample - loss: 2.7106 - val_loss: 2.6308\n",
      "Epoch 5/20\n",
      "78245/78245 [==============================] - 681s 9ms/sample - loss: 2.6449 - val_loss: 2.5849\n",
      "Epoch 6/20\n",
      "78245/78245 [==============================] - 681s 9ms/sample - loss: 2.5973 - val_loss: 2.5566\n",
      "Epoch 7/20\n",
      "78245/78245 [==============================] - 683s 9ms/sample - loss: 2.5592 - val_loss: 2.5352\n",
      "Epoch 8/20\n",
      "78245/78245 [==============================] - 682s 9ms/sample - loss: 2.5261 - val_loss: 2.5119\n",
      "Epoch 9/20\n",
      "78245/78245 [==============================] - 682s 9ms/sample - loss: 2.4981 - val_loss: 2.4973\n",
      "Epoch 10/20\n",
      "78245/78245 [==============================] - 680s 9ms/sample - loss: 2.4747 - val_loss: 2.4799\n",
      "Epoch 11/20\n",
      "78245/78245 [==============================] - 680s 9ms/sample - loss: 2.4522 - val_loss: 2.4754\n",
      "Epoch 12/20\n",
      "78245/78245 [==============================] - 683s 9ms/sample - loss: 2.4325 - val_loss: 2.4670\n",
      "Epoch 13/20\n",
      "78245/78245 [==============================] - 680s 9ms/sample - loss: 2.4134 - val_loss: 2.4536\n",
      "Epoch 14/20\n",
      "78245/78245 [==============================] - 683s 9ms/sample - loss: 2.3953 - val_loss: 2.4434\n",
      "Epoch 15/20\n",
      "78245/78245 [==============================] - 681s 9ms/sample - loss: 2.3772 - val_loss: 2.4338\n",
      "Epoch 16/20\n",
      "78245/78245 [==============================] - 681s 9ms/sample - loss: 2.3606 - val_loss: 2.4287\n",
      "Epoch 17/20\n",
      "78245/78245 [==============================] - 681s 9ms/sample - loss: 2.3462 - val_loss: 2.4215\n",
      "Epoch 18/20\n",
      "78245/78245 [==============================] - 681s 9ms/sample - loss: 2.3323 - val_loss: 2.4240\n",
      "Epoch 19/20\n",
      "78245/78245 [==============================] - 682s 9ms/sample - loss: 2.3218 - val_loss: 2.4207\n",
      "Epoch 20/20\n",
      "78245/78245 [==============================] - 681s 9ms/sample - loss: 2.3114 - val_loss: 2.4270\n"
     ]
    }
   ],
   "source": [
    "history=model.fit([x_train,y_train[:,:-1]],\n",
    "                  y_train.reshape(y_train.shape[0],y_train.shape[1], 1)[:,1:],\n",
    "                  epochs=20,\n",
    "                  batch_size=128, \n",
    "                  validation_data=([x_val,y_val[:,:-1]], y_val.reshape(y_val.shape[0],y_val.shape[1], 1)[:,1:]))"
   ]
  },
  {
   "cell_type": "code",
   "execution_count": 176,
   "metadata": {},
   "outputs": [],
   "source": [
    "model.save('summarizer.h5')"
   ]
  },
  {
   "cell_type": "code",
   "execution_count": 184,
   "metadata": {},
   "outputs": [],
   "source": [
    "model.load_weights('summarizer.h5')"
   ]
  },
  {
   "cell_type": "markdown",
   "metadata": {},
   "source": [
    "Lets look into the history of the model during training"
   ]
  },
  {
   "cell_type": "code",
   "execution_count": 178,
   "metadata": {},
   "outputs": [
    {
     "data": {
      "image/png": "[encoded data removed]",
      "text/plain": [
       "<Figure size 432x288 with 1 Axes>"
      ]
     },
     "metadata": {
      "needs_background": "light"
     },
     "output_type": "display_data"
    }
   ],
   "source": [
    "import matplotlib.pyplot as plt\n",
    "\n",
    "plt.plot(history.history['loss'], label='train')\n",
    "plt.plot(history.history['val_loss'], label='test')\n",
    "plt.legend()\n",
    "plt.show()"
   ]
  },
  {
   "cell_type": "markdown",
   "metadata": {},
   "source": [
    "Now its time for using our model to generate summary. Before that lets create a dictionary to convert integer tokens back to words"
   ]
  },
  {
   "cell_type": "code",
   "execution_count": 179,
   "metadata": {},
   "outputs": [],
   "source": [
    "summ_index_word = y_tokenizer.index_word\n",
    "text_index_word = x_tokenizer.index_word\n",
    "summ_word_index = y_tokenizer.word_index"
   ]
  },
  {
   "cell_type": "markdown",
   "metadata": {},
   "source": [
    "Building the inference model"
   ]
  },
  {
   "cell_type": "code",
   "execution_count": 186,
   "metadata": {},
   "outputs": [],
   "source": [
    "# Encoder model\n",
    "encoder_model = Model(inputs=e_input_layer, outputs=[encoder_outputs, state_h, state_c])\n",
    "\n",
    "# Decoder model\n",
    "d_state_input_h = Input(shape=(latent_dim,))\n",
    "d_state_input_c = Input(shape=(latent_dim,))\n",
    "d_hidden_state_input = Input(shape=(text_len, latent_dim))\n",
    "\n",
    "d_embedding = d_embedding_layer(d_input_layer)\n",
    "\n",
    "d_outputs_2, state_h2, state_c2 = d_lstm(d_embedding, \n",
    "                                                    initial_state=[d_state_input_h, \n",
    "                                                                   d_state_input_c])\n",
    "# Attention layer\n",
    "a_out_inf, a_states_inf = attn_layer([d_hidden_state_input,d_outputs_2])\n",
    "d_inf_concat = Concatenate(axis=-1, name='concat')([d_outputs_2, a_out_inf])\n",
    "\n",
    "d_outputs_2 = decoder_dense(d_inf_concat)\n",
    "\n",
    "decoder_model = Model([d_input_layer] + [d_hidden_state_input,d_state_input_h, d_state_input_c],\n",
    "    [d_outputs_2] + [state_h2, state_c2])"
   ]
  },
  {
   "cell_type": "markdown",
   "metadata": {},
   "source": [
    "Now we will define a function to generate encoded text using the encoder and then using that encoded text to generate the summary with the decoder."
   ]
  },
  {
   "cell_type": "code",
   "execution_count": 188,
   "metadata": {},
   "outputs": [],
   "source": [
    "def generate_summary(input_seq):\n",
    "    # Encoder output\n",
    "    e_out, e_h, e_c = encoder_model.predict(input_seq)\n",
    "    \n",
    "    # Generate an empty summary sequence of length 1\n",
    "    summ_seq = np.zeros((1,1))\n",
    "    \n",
    "    # Initialize the first word with our start token\n",
    "    summ_seq[0,0] = summ_word_index['summstart']\n",
    "    \n",
    "    \n",
    "    generated_summary = ''\n",
    "    while True:\n",
    "        output_tokens, h, c = decoder_model.predict([summ_seq] + [e_out,e_h,e_c])\n",
    "        \n",
    "        # Predicted token\n",
    "        predicted_token_index = np.argmax(output_tokens[0,-1,:])\n",
    "        predicted_token = summ_index_word[predicted_token_index]\n",
    "        \n",
    "        if predicted_token != 'summend':\n",
    "            generated_summary += ' ' + predicted_token \n",
    "        \n",
    "        # break if we reached the max length or received our end token\n",
    "        if predicted_token == 'summend' or len(generated_summary.split()) >= (summ_len -1):\n",
    "            break\n",
    "            \n",
    "        # Update the summary seq\n",
    "        summ_seq = np.zeros((1,1))\n",
    "        summ_seq[0,0] = predicted_token_index\n",
    "        \n",
    "        # update internal states\n",
    "        e_h, e_c= h,c\n",
    "        \n",
    "    return generated_summary"
   ]
  },
  {
   "cell_type": "markdown",
   "metadata": {},
   "source": [
    "Now we will define two functions "
   ]
  },
  {
   "cell_type": "code",
   "execution_count": 189,
   "metadata": {},
   "outputs": [],
   "source": [
    "def seq2summary(input_seq):\n",
    "    newString=''\n",
    "    for i in input_seq:\n",
    "        if((i!=0 and i!=summ_word_index['summstart']) and i!=summ_word_index['summend']):\n",
    "            newString=newString+summ_index_word[i]+' '\n",
    "    return newString\n",
    "\n",
    "def seq2text(input_seq):\n",
    "    newString=''\n",
    "    for i in input_seq:\n",
    "        if(i!=0):\n",
    "            newString=newString+text_index_word[i]+' '\n",
    "    return newString"
   ]
  },
  {
   "cell_type": "code",
   "execution_count": 210,
   "metadata": {},
   "outputs": [
    {
     "name": "stdout",
     "output_type": "stream",
     "text": [
      "Text: exactly wanted yummy make sure eat chocolate dip strawberry like way around perfect \n",
      "Summary: delicious \n",
      "Predicted:  delicious\n",
      "\n",
      "Text: best honey ever bought tastes like one grandma used kid cheap worth every penny taste great plus imported \n",
      "Summary: the best honey \n",
      "Predicted:  best honey ever\n",
      "\n",
      "Text: chex snack mix cheddar flavor ounce bags new amazon selection speed service use many items \n",
      "Summary: the best \n",
      "Predicted:  great snack\n",
      "\n",
      "Text: good stuff usually drink tea without flavoring sweetener stuff strong almost bitter prefer little honey basis stuff \n",
      "Summary: potent \n",
      "Predicted:  good tea\n",
      "\n",
      "Text: runner finishing college gatorade really hit wallet hard luckily found sports amazon com may seem like lot shell gatorade first realize getting gatorade gallon shipping costs included smile begins show \n",
      "Summary: gatorade at bulk price \n",
      "Predicted:  great product\n",
      "\n",
      "Text: honey sweet without powering flavor clover honey price right get package delivered every month great since drink tea go one bottle week \n",
      "Summary: great tasting well priced \n",
      "Predicted:  best honey ever\n",
      "\n",
      "Text: great like coffee strong price fantastic compared department stores love cups \n",
      "Summary: cannot beat the price \n",
      "Predicted:  great coffee\n",
      "\n",
      "Text: packets work great quart stir popper make chore making popcorn quick easy wish contained little oil though doesnt quite get kernels \n",
      "Summary: theater popcorn \n",
      "Predicted:  great popcorn\n",
      "\n",
      "Text: seems everyone loves tootsie pops box proves success take offer quick delivery love different flavors recommend \n",
      "Summary: all time favorite tootsie pops \n",
      "Predicted:  yummy\n",
      "\n",
      "Text: different taste white grapefruit addicting like potato chips bad \n",
      "Summary: mm good \n",
      "Predicted:  great chips\n",
      "\n"
     ]
    }
   ],
   "source": [
    "for _ in range(10):\n",
    "    i = np.random.randint(0,1000)\n",
    "    print(\"Text: {}\\nSummary: {}\\nPredicted: {}\\n\".format(seq2text(x_train[i]),seq2summary(y_train[i]),generate_summary(x_train[i].reshape(1,text_len))))"
   ]
  },
  {
   "cell_type": "markdown",
   "metadata": {},
   "source": [
    "Now that works really great! "
   ]
  }
 ],
 "metadata": {
  "kernelspec": {
   "display_name": "Python 3",
   "language": "python",
   "name": "python3"
  },
  "language_info": {
   "codemirror_mode": {
    "name": "ipython",
    "version": 3
   },
   "file_extension": ".py",
   "mimetype": "text/x-python",
   "name": "python",
   "nbconvert_exporter": "python",
   "pygments_lexer": "ipython3",
   "version": "3.6.8"
  }
 },
 "nbformat": 4,
 "nbformat_minor": 2
}
